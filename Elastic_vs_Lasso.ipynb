{
  "nbformat": 4,
  "nbformat_minor": 0,
  "metadata": {
    "colab": {
      "name": "Elastic vs Lasso.ipynb",
      "provenance": [],
      "authorship_tag": "ABX9TyNtRX+45NiOeWi0rztV5R99",
      "include_colab_link": true
    },
    "kernelspec": {
      "name": "python3",
      "display_name": "Python 3"
    },
    "language_info": {
      "name": "python"
    }
  },
  "cells": [
    {
      "cell_type": "markdown",
      "metadata": {
        "id": "view-in-github",
        "colab_type": "text"
      },
      "source": [
        "<a href=\"https://colab.research.google.com/github/skrzypczykt/Poem/blob/master/Elastic_vs_Lasso.ipynb\" target=\"_parent\"><img src=\"https://colab.research.google.com/assets/colab-badge.svg\" alt=\"Open In Colab\"/></a>"
      ]
    },
    {
      "cell_type": "markdown",
      "metadata": {
        "id": "bEAeH6Lkr7_z"
      },
      "source": [
        "#Regularyzacja_i_graficzna_ocena_klasyfikatorow"
      ]
    },
    {
      "cell_type": "code",
      "metadata": {
        "id": "3jIIICuMQGEe"
      },
      "source": [
        "import numpy as np\n",
        "import pandas as pd\n",
        "data = np.genfromtxt('/content/australian.dat',\n",
        "                     skip_header=0,\n",
        "                     skip_footer=0,\n",
        "                     names=True,\n",
        "                     dtype=float,\n",
        "                     delimiter=' ')\n",
        "df = pd.DataFrame(data)\n",
        "df.columns =  [f'x{i}' for i in range(15)]"
      ],
      "execution_count": 22,
      "outputs": []
    },
    {
      "cell_type": "code",
      "metadata": {
        "colab": {
          "base_uri": "https://localhost:8080/",
          "height": 419
        },
        "id": "KiOlufbpQQ5Z",
        "outputId": "7a13f15c-50f6-41d4-fb17-a1ee214bb476"
      },
      "source": [
        "df"
      ],
      "execution_count": 23,
      "outputs": [
        {
          "output_type": "execute_result",
          "data": {
            "text/html": [
              "<div>\n",
              "<style scoped>\n",
              "    .dataframe tbody tr th:only-of-type {\n",
              "        vertical-align: middle;\n",
              "    }\n",
              "\n",
              "    .dataframe tbody tr th {\n",
              "        vertical-align: top;\n",
              "    }\n",
              "\n",
              "    .dataframe thead th {\n",
              "        text-align: right;\n",
              "    }\n",
              "</style>\n",
              "<table border=\"1\" class=\"dataframe\">\n",
              "  <thead>\n",
              "    <tr style=\"text-align: right;\">\n",
              "      <th></th>\n",
              "      <th>x0</th>\n",
              "      <th>x1</th>\n",
              "      <th>x2</th>\n",
              "      <th>x3</th>\n",
              "      <th>x4</th>\n",
              "      <th>x5</th>\n",
              "      <th>x6</th>\n",
              "      <th>x7</th>\n",
              "      <th>x8</th>\n",
              "      <th>x9</th>\n",
              "      <th>x10</th>\n",
              "      <th>x11</th>\n",
              "      <th>x12</th>\n",
              "      <th>x13</th>\n",
              "      <th>x14</th>\n",
              "    </tr>\n",
              "  </thead>\n",
              "  <tbody>\n",
              "    <tr>\n",
              "      <th>0</th>\n",
              "      <td>0.0</td>\n",
              "      <td>22.67</td>\n",
              "      <td>7.000</td>\n",
              "      <td>2.0</td>\n",
              "      <td>8.0</td>\n",
              "      <td>4.0</td>\n",
              "      <td>0.165</td>\n",
              "      <td>0.0</td>\n",
              "      <td>0.0</td>\n",
              "      <td>0.0</td>\n",
              "      <td>0.0</td>\n",
              "      <td>2.0</td>\n",
              "      <td>160.0</td>\n",
              "      <td>1.0</td>\n",
              "      <td>0.0</td>\n",
              "    </tr>\n",
              "    <tr>\n",
              "      <th>1</th>\n",
              "      <td>0.0</td>\n",
              "      <td>29.58</td>\n",
              "      <td>1.750</td>\n",
              "      <td>1.0</td>\n",
              "      <td>4.0</td>\n",
              "      <td>4.0</td>\n",
              "      <td>1.250</td>\n",
              "      <td>0.0</td>\n",
              "      <td>0.0</td>\n",
              "      <td>0.0</td>\n",
              "      <td>1.0</td>\n",
              "      <td>2.0</td>\n",
              "      <td>280.0</td>\n",
              "      <td>1.0</td>\n",
              "      <td>0.0</td>\n",
              "    </tr>\n",
              "    <tr>\n",
              "      <th>2</th>\n",
              "      <td>0.0</td>\n",
              "      <td>21.67</td>\n",
              "      <td>11.500</td>\n",
              "      <td>1.0</td>\n",
              "      <td>5.0</td>\n",
              "      <td>3.0</td>\n",
              "      <td>0.000</td>\n",
              "      <td>1.0</td>\n",
              "      <td>1.0</td>\n",
              "      <td>11.0</td>\n",
              "      <td>1.0</td>\n",
              "      <td>2.0</td>\n",
              "      <td>0.0</td>\n",
              "      <td>1.0</td>\n",
              "      <td>1.0</td>\n",
              "    </tr>\n",
              "    <tr>\n",
              "      <th>3</th>\n",
              "      <td>1.0</td>\n",
              "      <td>20.17</td>\n",
              "      <td>8.170</td>\n",
              "      <td>2.0</td>\n",
              "      <td>6.0</td>\n",
              "      <td>4.0</td>\n",
              "      <td>1.960</td>\n",
              "      <td>1.0</td>\n",
              "      <td>1.0</td>\n",
              "      <td>14.0</td>\n",
              "      <td>0.0</td>\n",
              "      <td>2.0</td>\n",
              "      <td>60.0</td>\n",
              "      <td>159.0</td>\n",
              "      <td>1.0</td>\n",
              "    </tr>\n",
              "    <tr>\n",
              "      <th>4</th>\n",
              "      <td>0.0</td>\n",
              "      <td>15.83</td>\n",
              "      <td>0.585</td>\n",
              "      <td>2.0</td>\n",
              "      <td>8.0</td>\n",
              "      <td>8.0</td>\n",
              "      <td>1.500</td>\n",
              "      <td>1.0</td>\n",
              "      <td>1.0</td>\n",
              "      <td>2.0</td>\n",
              "      <td>0.0</td>\n",
              "      <td>2.0</td>\n",
              "      <td>100.0</td>\n",
              "      <td>1.0</td>\n",
              "      <td>1.0</td>\n",
              "    </tr>\n",
              "    <tr>\n",
              "      <th>...</th>\n",
              "      <td>...</td>\n",
              "      <td>...</td>\n",
              "      <td>...</td>\n",
              "      <td>...</td>\n",
              "      <td>...</td>\n",
              "      <td>...</td>\n",
              "      <td>...</td>\n",
              "      <td>...</td>\n",
              "      <td>...</td>\n",
              "      <td>...</td>\n",
              "      <td>...</td>\n",
              "      <td>...</td>\n",
              "      <td>...</td>\n",
              "      <td>...</td>\n",
              "      <td>...</td>\n",
              "    </tr>\n",
              "    <tr>\n",
              "      <th>684</th>\n",
              "      <td>1.0</td>\n",
              "      <td>31.57</td>\n",
              "      <td>10.500</td>\n",
              "      <td>2.0</td>\n",
              "      <td>14.0</td>\n",
              "      <td>4.0</td>\n",
              "      <td>6.500</td>\n",
              "      <td>1.0</td>\n",
              "      <td>0.0</td>\n",
              "      <td>0.0</td>\n",
              "      <td>0.0</td>\n",
              "      <td>2.0</td>\n",
              "      <td>0.0</td>\n",
              "      <td>1.0</td>\n",
              "      <td>1.0</td>\n",
              "    </tr>\n",
              "    <tr>\n",
              "      <th>685</th>\n",
              "      <td>1.0</td>\n",
              "      <td>20.67</td>\n",
              "      <td>0.415</td>\n",
              "      <td>2.0</td>\n",
              "      <td>8.0</td>\n",
              "      <td>4.0</td>\n",
              "      <td>0.125</td>\n",
              "      <td>0.0</td>\n",
              "      <td>0.0</td>\n",
              "      <td>0.0</td>\n",
              "      <td>0.0</td>\n",
              "      <td>2.0</td>\n",
              "      <td>0.0</td>\n",
              "      <td>45.0</td>\n",
              "      <td>0.0</td>\n",
              "    </tr>\n",
              "    <tr>\n",
              "      <th>686</th>\n",
              "      <td>0.0</td>\n",
              "      <td>18.83</td>\n",
              "      <td>9.540</td>\n",
              "      <td>2.0</td>\n",
              "      <td>6.0</td>\n",
              "      <td>4.0</td>\n",
              "      <td>0.085</td>\n",
              "      <td>1.0</td>\n",
              "      <td>0.0</td>\n",
              "      <td>0.0</td>\n",
              "      <td>0.0</td>\n",
              "      <td>2.0</td>\n",
              "      <td>100.0</td>\n",
              "      <td>1.0</td>\n",
              "      <td>1.0</td>\n",
              "    </tr>\n",
              "    <tr>\n",
              "      <th>687</th>\n",
              "      <td>0.0</td>\n",
              "      <td>27.42</td>\n",
              "      <td>14.500</td>\n",
              "      <td>2.0</td>\n",
              "      <td>14.0</td>\n",
              "      <td>8.0</td>\n",
              "      <td>3.085</td>\n",
              "      <td>1.0</td>\n",
              "      <td>1.0</td>\n",
              "      <td>1.0</td>\n",
              "      <td>0.0</td>\n",
              "      <td>2.0</td>\n",
              "      <td>120.0</td>\n",
              "      <td>12.0</td>\n",
              "      <td>1.0</td>\n",
              "    </tr>\n",
              "    <tr>\n",
              "      <th>688</th>\n",
              "      <td>1.0</td>\n",
              "      <td>41.00</td>\n",
              "      <td>0.040</td>\n",
              "      <td>2.0</td>\n",
              "      <td>10.0</td>\n",
              "      <td>4.0</td>\n",
              "      <td>0.040</td>\n",
              "      <td>0.0</td>\n",
              "      <td>1.0</td>\n",
              "      <td>1.0</td>\n",
              "      <td>0.0</td>\n",
              "      <td>1.0</td>\n",
              "      <td>560.0</td>\n",
              "      <td>1.0</td>\n",
              "      <td>1.0</td>\n",
              "    </tr>\n",
              "  </tbody>\n",
              "</table>\n",
              "<p>689 rows × 15 columns</p>\n",
              "</div>"
            ],
            "text/plain": [
              "      x0     x1      x2   x3    x4   x5  ...    x9  x10  x11    x12    x13  x14\n",
              "0    0.0  22.67   7.000  2.0   8.0  4.0  ...   0.0  0.0  2.0  160.0    1.0  0.0\n",
              "1    0.0  29.58   1.750  1.0   4.0  4.0  ...   0.0  1.0  2.0  280.0    1.0  0.0\n",
              "2    0.0  21.67  11.500  1.0   5.0  3.0  ...  11.0  1.0  2.0    0.0    1.0  1.0\n",
              "3    1.0  20.17   8.170  2.0   6.0  4.0  ...  14.0  0.0  2.0   60.0  159.0  1.0\n",
              "4    0.0  15.83   0.585  2.0   8.0  8.0  ...   2.0  0.0  2.0  100.0    1.0  1.0\n",
              "..   ...    ...     ...  ...   ...  ...  ...   ...  ...  ...    ...    ...  ...\n",
              "684  1.0  31.57  10.500  2.0  14.0  4.0  ...   0.0  0.0  2.0    0.0    1.0  1.0\n",
              "685  1.0  20.67   0.415  2.0   8.0  4.0  ...   0.0  0.0  2.0    0.0   45.0  0.0\n",
              "686  0.0  18.83   9.540  2.0   6.0  4.0  ...   0.0  0.0  2.0  100.0    1.0  1.0\n",
              "687  0.0  27.42  14.500  2.0  14.0  8.0  ...   1.0  0.0  2.0  120.0   12.0  1.0\n",
              "688  1.0  41.00   0.040  2.0  10.0  4.0  ...   1.0  0.0  1.0  560.0    1.0  1.0\n",
              "\n",
              "[689 rows x 15 columns]"
            ]
          },
          "metadata": {
            "tags": []
          },
          "execution_count": 23
        }
      ]
    },
    {
      "cell_type": "code",
      "metadata": {
        "id": "OrOsONjdTwHR"
      },
      "source": [
        "from sklearn.model_selection import train_test_split\n",
        "train_set, test_set = train_test_split(df, test_size=0.3, random_state=42)"
      ],
      "execution_count": 24,
      "outputs": []
    },
    {
      "cell_type": "code",
      "metadata": {
        "id": "5k85ZS5eR1W3"
      },
      "source": [
        "X_train = train_set.drop(['x14'],axis=1)\n",
        "X_test = test_set.drop(['x14'],axis=1)\n",
        "y_train = train_set['x14']\n",
        "y_test = test_set['x14']\n"
      ],
      "execution_count": 25,
      "outputs": []
    },
    {
      "cell_type": "code",
      "metadata": {
        "colab": {
          "base_uri": "https://localhost:8080/",
          "height": 419
        },
        "id": "NHVJ13FzUIou",
        "outputId": "fe6003f5-5442-45f9-ffb5-7981e4630e37"
      },
      "source": [
        "X_train"
      ],
      "execution_count": 26,
      "outputs": [
        {
          "output_type": "execute_result",
          "data": {
            "text/html": [
              "<div>\n",
              "<style scoped>\n",
              "    .dataframe tbody tr th:only-of-type {\n",
              "        vertical-align: middle;\n",
              "    }\n",
              "\n",
              "    .dataframe tbody tr th {\n",
              "        vertical-align: top;\n",
              "    }\n",
              "\n",
              "    .dataframe thead th {\n",
              "        text-align: right;\n",
              "    }\n",
              "</style>\n",
              "<table border=\"1\" class=\"dataframe\">\n",
              "  <thead>\n",
              "    <tr style=\"text-align: right;\">\n",
              "      <th></th>\n",
              "      <th>x0</th>\n",
              "      <th>x1</th>\n",
              "      <th>x2</th>\n",
              "      <th>x3</th>\n",
              "      <th>x4</th>\n",
              "      <th>x5</th>\n",
              "      <th>x6</th>\n",
              "      <th>x7</th>\n",
              "      <th>x8</th>\n",
              "      <th>x9</th>\n",
              "      <th>x10</th>\n",
              "      <th>x11</th>\n",
              "      <th>x12</th>\n",
              "      <th>x13</th>\n",
              "    </tr>\n",
              "  </thead>\n",
              "  <tbody>\n",
              "    <tr>\n",
              "      <th>178</th>\n",
              "      <td>1.0</td>\n",
              "      <td>42.17</td>\n",
              "      <td>5.040</td>\n",
              "      <td>2.0</td>\n",
              "      <td>11.0</td>\n",
              "      <td>8.0</td>\n",
              "      <td>12.750</td>\n",
              "      <td>1.0</td>\n",
              "      <td>0.0</td>\n",
              "      <td>0.0</td>\n",
              "      <td>1.0</td>\n",
              "      <td>2.0</td>\n",
              "      <td>92.0</td>\n",
              "      <td>1.0</td>\n",
              "    </tr>\n",
              "    <tr>\n",
              "      <th>265</th>\n",
              "      <td>1.0</td>\n",
              "      <td>22.17</td>\n",
              "      <td>12.125</td>\n",
              "      <td>2.0</td>\n",
              "      <td>8.0</td>\n",
              "      <td>4.0</td>\n",
              "      <td>3.335</td>\n",
              "      <td>0.0</td>\n",
              "      <td>1.0</td>\n",
              "      <td>2.0</td>\n",
              "      <td>1.0</td>\n",
              "      <td>2.0</td>\n",
              "      <td>180.0</td>\n",
              "      <td>174.0</td>\n",
              "    </tr>\n",
              "    <tr>\n",
              "      <th>352</th>\n",
              "      <td>1.0</td>\n",
              "      <td>34.08</td>\n",
              "      <td>6.500</td>\n",
              "      <td>2.0</td>\n",
              "      <td>6.0</td>\n",
              "      <td>4.0</td>\n",
              "      <td>0.125</td>\n",
              "      <td>1.0</td>\n",
              "      <td>0.0</td>\n",
              "      <td>0.0</td>\n",
              "      <td>1.0</td>\n",
              "      <td>2.0</td>\n",
              "      <td>443.0</td>\n",
              "      <td>1.0</td>\n",
              "    </tr>\n",
              "    <tr>\n",
              "      <th>495</th>\n",
              "      <td>1.0</td>\n",
              "      <td>25.75</td>\n",
              "      <td>0.750</td>\n",
              "      <td>2.0</td>\n",
              "      <td>8.0</td>\n",
              "      <td>5.0</td>\n",
              "      <td>0.250</td>\n",
              "      <td>1.0</td>\n",
              "      <td>0.0</td>\n",
              "      <td>0.0</td>\n",
              "      <td>0.0</td>\n",
              "      <td>2.0</td>\n",
              "      <td>349.0</td>\n",
              "      <td>24.0</td>\n",
              "    </tr>\n",
              "    <tr>\n",
              "      <th>408</th>\n",
              "      <td>1.0</td>\n",
              "      <td>25.25</td>\n",
              "      <td>1.000</td>\n",
              "      <td>2.0</td>\n",
              "      <td>6.0</td>\n",
              "      <td>4.0</td>\n",
              "      <td>0.500</td>\n",
              "      <td>0.0</td>\n",
              "      <td>0.0</td>\n",
              "      <td>0.0</td>\n",
              "      <td>0.0</td>\n",
              "      <td>2.0</td>\n",
              "      <td>200.0</td>\n",
              "      <td>1.0</td>\n",
              "    </tr>\n",
              "    <tr>\n",
              "      <th>...</th>\n",
              "      <td>...</td>\n",
              "      <td>...</td>\n",
              "      <td>...</td>\n",
              "      <td>...</td>\n",
              "      <td>...</td>\n",
              "      <td>...</td>\n",
              "      <td>...</td>\n",
              "      <td>...</td>\n",
              "      <td>...</td>\n",
              "      <td>...</td>\n",
              "      <td>...</td>\n",
              "      <td>...</td>\n",
              "      <td>...</td>\n",
              "      <td>...</td>\n",
              "    </tr>\n",
              "    <tr>\n",
              "      <th>71</th>\n",
              "      <td>1.0</td>\n",
              "      <td>29.42</td>\n",
              "      <td>1.250</td>\n",
              "      <td>2.0</td>\n",
              "      <td>9.0</td>\n",
              "      <td>4.0</td>\n",
              "      <td>1.750</td>\n",
              "      <td>0.0</td>\n",
              "      <td>0.0</td>\n",
              "      <td>0.0</td>\n",
              "      <td>0.0</td>\n",
              "      <td>2.0</td>\n",
              "      <td>200.0</td>\n",
              "      <td>1.0</td>\n",
              "    </tr>\n",
              "    <tr>\n",
              "      <th>106</th>\n",
              "      <td>1.0</td>\n",
              "      <td>22.25</td>\n",
              "      <td>9.000</td>\n",
              "      <td>2.0</td>\n",
              "      <td>6.0</td>\n",
              "      <td>4.0</td>\n",
              "      <td>0.085</td>\n",
              "      <td>0.0</td>\n",
              "      <td>0.0</td>\n",
              "      <td>0.0</td>\n",
              "      <td>0.0</td>\n",
              "      <td>2.0</td>\n",
              "      <td>0.0</td>\n",
              "      <td>1.0</td>\n",
              "    </tr>\n",
              "    <tr>\n",
              "      <th>270</th>\n",
              "      <td>1.0</td>\n",
              "      <td>23.25</td>\n",
              "      <td>1.000</td>\n",
              "      <td>2.0</td>\n",
              "      <td>8.0</td>\n",
              "      <td>4.0</td>\n",
              "      <td>0.835</td>\n",
              "      <td>1.0</td>\n",
              "      <td>0.0</td>\n",
              "      <td>0.0</td>\n",
              "      <td>0.0</td>\n",
              "      <td>1.0</td>\n",
              "      <td>300.0</td>\n",
              "      <td>1.0</td>\n",
              "    </tr>\n",
              "    <tr>\n",
              "      <th>435</th>\n",
              "      <td>1.0</td>\n",
              "      <td>24.58</td>\n",
              "      <td>12.500</td>\n",
              "      <td>2.0</td>\n",
              "      <td>9.0</td>\n",
              "      <td>4.0</td>\n",
              "      <td>0.875</td>\n",
              "      <td>1.0</td>\n",
              "      <td>0.0</td>\n",
              "      <td>0.0</td>\n",
              "      <td>1.0</td>\n",
              "      <td>2.0</td>\n",
              "      <td>260.0</td>\n",
              "      <td>1.0</td>\n",
              "    </tr>\n",
              "    <tr>\n",
              "      <th>102</th>\n",
              "      <td>1.0</td>\n",
              "      <td>27.75</td>\n",
              "      <td>0.585</td>\n",
              "      <td>1.0</td>\n",
              "      <td>13.0</td>\n",
              "      <td>4.0</td>\n",
              "      <td>0.250</td>\n",
              "      <td>1.0</td>\n",
              "      <td>1.0</td>\n",
              "      <td>2.0</td>\n",
              "      <td>0.0</td>\n",
              "      <td>2.0</td>\n",
              "      <td>260.0</td>\n",
              "      <td>501.0</td>\n",
              "    </tr>\n",
              "  </tbody>\n",
              "</table>\n",
              "<p>482 rows × 14 columns</p>\n",
              "</div>"
            ],
            "text/plain": [
              "      x0     x1      x2   x3    x4   x5  ...   x8   x9  x10  x11    x12    x13\n",
              "178  1.0  42.17   5.040  2.0  11.0  8.0  ...  0.0  0.0  1.0  2.0   92.0    1.0\n",
              "265  1.0  22.17  12.125  2.0   8.0  4.0  ...  1.0  2.0  1.0  2.0  180.0  174.0\n",
              "352  1.0  34.08   6.500  2.0   6.0  4.0  ...  0.0  0.0  1.0  2.0  443.0    1.0\n",
              "495  1.0  25.75   0.750  2.0   8.0  5.0  ...  0.0  0.0  0.0  2.0  349.0   24.0\n",
              "408  1.0  25.25   1.000  2.0   6.0  4.0  ...  0.0  0.0  0.0  2.0  200.0    1.0\n",
              "..   ...    ...     ...  ...   ...  ...  ...  ...  ...  ...  ...    ...    ...\n",
              "71   1.0  29.42   1.250  2.0   9.0  4.0  ...  0.0  0.0  0.0  2.0  200.0    1.0\n",
              "106  1.0  22.25   9.000  2.0   6.0  4.0  ...  0.0  0.0  0.0  2.0    0.0    1.0\n",
              "270  1.0  23.25   1.000  2.0   8.0  4.0  ...  0.0  0.0  0.0  1.0  300.0    1.0\n",
              "435  1.0  24.58  12.500  2.0   9.0  4.0  ...  0.0  0.0  1.0  2.0  260.0    1.0\n",
              "102  1.0  27.75   0.585  1.0  13.0  4.0  ...  1.0  2.0  0.0  2.0  260.0  501.0\n",
              "\n",
              "[482 rows x 14 columns]"
            ]
          },
          "metadata": {
            "tags": []
          },
          "execution_count": 26
        }
      ]
    },
    {
      "cell_type": "markdown",
      "metadata": {
        "id": "SyytXCLonFkN"
      },
      "source": [
        "Skalowanie cech"
      ]
    },
    {
      "cell_type": "code",
      "metadata": {
        "id": "V88y0nOAUJ0N"
      },
      "source": [
        "from sklearn.preprocessing import StandardScaler\n",
        "\n",
        "scaler = StandardScaler()\n",
        "X_train_scaled = scaler.fit_transform(X_train)\n",
        "X_test_scaled = scaler.transform(X_test)"
      ],
      "execution_count": 27,
      "outputs": []
    },
    {
      "cell_type": "markdown",
      "metadata": {
        "id": "nRvNYos7VfKO"
      },
      "source": [
        "#Zadanie"
      ]
    },
    {
      "cell_type": "markdown",
      "metadata": {
        "id": "X6Q_BDrnVeHX"
      },
      "source": [
        "Przeprowadziliśmy procedurę wyboru najlepszego modelu dla regresji LASSO. Przeprowadź taką samą analizę dla regresji grzbietowej i modelu Elastic-Net. Który z modeli jest najlepszy? Odpowiedź uzasadnij (10 pkt.)."
      ]
    },
    {
      "cell_type": "markdown",
      "metadata": {
        "id": "F4OvUqSTVi7-"
      },
      "source": [
        "##RidgeRegression"
      ]
    },
    {
      "cell_type": "code",
      "metadata": {
        "colab": {
          "base_uri": "https://localhost:8080/"
        },
        "id": "zQ1cBwMwVFSl",
        "outputId": "d4b29d2d-0ce9-4fdb-f4cb-5b17c7f8d301"
      },
      "source": [
        "from sklearn.linear_model import LogisticRegression\n",
        "from sklearn.model_selection import RandomizedSearchCV\n",
        "from scipy.stats import uniform\n",
        "\n",
        "distributions = dict(C=uniform(loc=0, scale=4),penalty=['l2'])\n",
        "lr_l2 = LogisticRegression()\n",
        "clf_l2 = RandomizedSearchCV(lr_l2, distributions, random_state=0, refit=True)\n",
        "search = clf_l2.fit(X_train_scaled, y_train)\n",
        "search.best_params_"
      ],
      "execution_count": 28,
      "outputs": [
        {
          "output_type": "execute_result",
          "data": {
            "text/plain": [
              "{'C': 1.5337660753031108, 'penalty': 'l2'}"
            ]
          },
          "metadata": {
            "tags": []
          },
          "execution_count": 28
        }
      ]
    },
    {
      "cell_type": "code",
      "metadata": {
        "id": "DixStlB6opic"
      },
      "source": [
        "from sklearn.metrics import accuracy_score\n",
        "\n",
        "accuracy_l2 = accuracy_score(y_test, clf_l2.predict(X_test_scaled))"
      ],
      "execution_count": 29,
      "outputs": []
    },
    {
      "cell_type": "markdown",
      "metadata": {
        "id": "13gCRmCanc7-"
      },
      "source": [
        "Najlepsze parametry dla regresji grzbietowej:\n",
        "Współczynnik regularyzacji  **1.533**"
      ]
    },
    {
      "cell_type": "code",
      "metadata": {
        "colab": {
          "base_uri": "https://localhost:8080/"
        },
        "id": "4w8brTW4Vrct",
        "outputId": "e5681bcb-39ac-4ace-d5d8-5ff725bfeda4"
      },
      "source": [
        "distributions = dict(C=uniform(loc=0, scale=4),l1_ratio=uniform(loc=0, scale=1),penalty=['elasticnet'])\n",
        "lr_elastic = LogisticRegression(solver='saga', max_iter=1000)\n",
        "clf_elastic = RandomizedSearchCV(lr_elastic, distributions, random_state=0, refit=True)\n",
        "search = clf_elastic.fit(X_train_scaled, y_train)\n",
        "search.best_params_"
      ],
      "execution_count": 30,
      "outputs": [
        {
          "output_type": "execute_result",
          "data": {
            "text/plain": [
              "{'C': 0.28414423279154777,\n",
              " 'l1_ratio': 0.08712929970154071,\n",
              " 'penalty': 'elasticnet'}"
            ]
          },
          "metadata": {
            "tags": []
          },
          "execution_count": 30
        }
      ]
    },
    {
      "cell_type": "code",
      "metadata": {
        "id": "Va_lTYoapip9"
      },
      "source": [
        "accuracy_elastic_net = accuracy_score(y_test, clf_elastic.predict(X_test_scaled))"
      ],
      "execution_count": 31,
      "outputs": []
    },
    {
      "cell_type": "markdown",
      "metadata": {
        "id": "Pdse-5uon9Sr"
      },
      "source": [
        "Najlepsze parametry dla regresji elasticnet:\n",
        "\n",
        "\n",
        "Współczynnik regularyzacji  **0.284144**\n",
        "\n",
        "Współczynnik regularyzacji l1 **0.087129**\n",
        "\n",
        "Współczynnik regularyzacji l2 **1 - 0.087129 = 0.912871**\n",
        "\n",
        "Model skłania się ku regularyzacji l2."
      ]
    },
    {
      "cell_type": "markdown",
      "metadata": {
        "id": "k-jCrSv3oe38"
      },
      "source": [
        "#Zestawienie wyników\n"
      ]
    },
    {
      "cell_type": "markdown",
      "metadata": {
        "id": "_F9d_xLCVD4g"
      },
      "source": [
        "*Wyniki dla LASSO:*\n",
        "\n",
        "\\\\\n",
        "conf matrix\n",
        "\n",
        "\n",
        "**83.0** 19.0 \n",
        "\n",
        "  8.0  **98.0**\n",
        "\n",
        "\\\\\n",
        "accuracy\n",
        "\n",
        "\n",
        "**0.87**01923076923077"
      ]
    },
    {
      "cell_type": "code",
      "metadata": {
        "colab": {
          "base_uri": "https://localhost:8080/"
        },
        "id": "r7akqxvQptQm",
        "outputId": "57cadad0-fde8-40b2-a1ac-4ae9e2573ff0"
      },
      "source": [
        "print(\"Accuracy dla regresji grzbietowej:\", accuracy_l2)\n",
        "print(\"Accuracy dla elasticnet:\", accuracy_elastic_net)"
      ],
      "execution_count": 32,
      "outputs": [
        {
          "output_type": "stream",
          "text": [
            "Accuracy dla regresji grzbietowej: 0.8695652173913043\n",
            "Accuracy dla elasticnet: 0.8647342995169082\n"
          ],
          "name": "stdout"
        }
      ]
    },
    {
      "cell_type": "code",
      "metadata": {
        "colab": {
          "base_uri": "https://localhost:8080/"
        },
        "id": "m4-XSyPOp279",
        "outputId": "1f897493-36fb-4a19-ef44-b455ce6e582d"
      },
      "source": [
        "from sklearn.metrics import confusion_matrix\n",
        "print(\"Confusion matrix dla regresji grzbietowej\")\n",
        "confusion_matrix(y_test, clf_l2.predict(X_test_scaled))"
      ],
      "execution_count": 33,
      "outputs": [
        {
          "output_type": "stream",
          "text": [
            "Confusion matrix dla regresji grzbietowej\n"
          ],
          "name": "stdout"
        },
        {
          "output_type": "execute_result",
          "data": {
            "text/plain": [
              "array([[102,  22],\n",
              "       [  5,  78]])"
            ]
          },
          "metadata": {
            "tags": []
          },
          "execution_count": 33
        }
      ]
    },
    {
      "cell_type": "code",
      "metadata": {
        "colab": {
          "base_uri": "https://localhost:8080/"
        },
        "id": "joBjGLwoqLPr",
        "outputId": "31217d63-8821-4631-cb18-17757399add2"
      },
      "source": [
        "print(\"Confusion matrix dla elasticnet\")\n",
        "confusion_matrix(y_test, clf_elastic.predict(X_test_scaled))"
      ],
      "execution_count": 34,
      "outputs": [
        {
          "output_type": "stream",
          "text": [
            "Confusion matrix dla elasticnet\n"
          ],
          "name": "stdout"
        },
        {
          "output_type": "execute_result",
          "data": {
            "text/plain": [
              "array([[101,  23],\n",
              "       [  5,  78]])"
            ]
          },
          "metadata": {
            "tags": []
          },
          "execution_count": 34
        }
      ]
    },
    {
      "cell_type": "markdown",
      "metadata": {
        "id": "IrPjzfz9rIAc"
      },
      "source": [
        "Uzyskaliśmy dwa modele o gorszym accuracy. Ta miara nie jest jednak najlepszą dla zbiorów niezbilansowanych. Model regresji grzbietowe wypadł nieznacznie lepiej od elastic net. **FP** = 22 i opdowiednio 23."
      ]
    }
  ]
}